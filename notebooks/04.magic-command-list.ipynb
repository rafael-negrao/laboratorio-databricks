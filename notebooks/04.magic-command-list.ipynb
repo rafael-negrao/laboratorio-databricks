{
 "cells": [
  {
   "cell_type": "markdown",
   "metadata": {
    "application/vnd.databricks.v1+cell": {
     "cellMetadata": {
      "byteLimit": 2048000,
      "rowLimit": 10000
     },
     "inputWidgets": {},
     "nuid": "fafab8c1-b9fc-45ca-a251-2b20548460fe",
     "showTitle": false,
     "title": ""
    }
   },
   "source": [
    "### Principais `magic commands`"
   ]
  },
  {
   "cell_type": "markdown",
   "metadata": {
    "application/vnd.databricks.v1+cell": {
     "cellMetadata": {
      "byteLimit": 2048000,
      "rowLimit": 10000
     },
     "inputWidgets": {},
     "nuid": "a6c7251f-c95e-4eb2-8968-aa9ea5571356",
     "showTitle": false,
     "title": ""
    }
   },
   "source": [
    "Principais **magic commands**"
   ]
  },
  {
   "cell_type": "markdown",
   "metadata": {
    "application/vnd.databricks.v1+cell": {
     "cellMetadata": {
      "byteLimit": 2048000,
      "rowLimit": 10000
     },
     "inputWidgets": {},
     "nuid": "f92cb79c-1b06-49ff-968b-d1bc130fe698",
     "showTitle": false,
     "title": ""
    }
   },
   "source": [
    "#### %lsmagic\n",
    "\n",
    "Exibe todos os comandos disponíveis"
   ]
  },
  {
   "cell_type": "code",
   "execution_count": 0,
   "metadata": {
    "application/vnd.databricks.v1+cell": {
     "cellMetadata": {
      "byteLimit": 2048000,
      "rowLimit": 10000
     },
     "inputWidgets": {},
     "nuid": "82d77502-3541-46e3-ae71-018061ef468e",
     "showTitle": false,
     "title": ""
    }
   },
   "outputs": [
    {
     "output_type": "execute_result",
     "data": {
      "application/json": {
       "cell": {
        "!": "OSMagics",
        "HTML": "Other",
        "SVG": "Other",
        "bash": "Other",
        "capture": "ExecutionMagics",
        "code_wrap": "ExecutionMagics",
        "debug": "ExecutionMagics",
        "file": "Other",
        "html": "DisplayMagics",
        "javascript": "DisplayMagics",
        "js": "DisplayMagics",
        "latex": "DisplayMagics",
        "markdown": "DisplayMagics",
        "perl": "Other",
        "prun": "ExecutionMagics",
        "pypy": "Other",
        "python": "Other",
        "python2": "Other",
        "python3": "Other",
        "ruby": "Other",
        "script": "ScriptMagics",
        "sh": "Other",
        "svg": "DisplayMagics",
        "sx": "OSMagics",
        "system": "OSMagics",
        "time": "ExecutionMagics",
        "timeit": "ExecutionMagics",
        "writefile": "OSMagics"
       },
       "line": {
        "alias": "OSMagics",
        "alias_magic": "BasicMagics",
        "autoawait": "AsyncMagics",
        "autocall": "AutoMagics",
        "automagic": "AutoMagics",
        "autosave": "KernelMagics",
        "bookmark": "OSMagics",
        "cat": "Other",
        "cd": "OSMagics",
        "clear": "KernelMagics",
        "code_wrap": "ExecutionMagics",
        "colors": "BasicMagics",
        "conda": "PipMagicOverrides",
        "config": "ConfigMagics",
        "connect_info": "KernelMagics",
        "cp": "Other",
        "debug": "ExecutionMagics",
        "dhist": "OSMagics",
        "dirs": "OSMagics",
        "doctest_mode": "BasicMagics",
        "ed": "Other",
        "edit": "KernelMagics",
        "env": "OSMagics",
        "gui": "BasicMagics",
        "hist": "Other",
        "history": "HistoryMagics",
        "killbgscripts": "ScriptMagics",
        "ldir": "Other",
        "less": "KernelMagics",
        "lf": "Other",
        "lk": "Other",
        "ll": "Other",
        "load": "CodeMagics",
        "load_ext": "ExtensionMagics",
        "loadpy": "CodeMagics",
        "logoff": "LoggingMagics",
        "logon": "LoggingMagics",
        "logstart": "LoggingMagics",
        "logstate": "LoggingMagics",
        "logstop": "LoggingMagics",
        "ls": "Other",
        "lsmagic": "BasicMagics",
        "lx": "Other",
        "macro": "ExecutionMagics",
        "magic": "BasicMagics",
        "man": "KernelMagics",
        "matplotlib": "PylabMagics",
        "mkdir": "Other",
        "more": "KernelMagics",
        "mv": "Other",
        "notebook": "BasicMagics",
        "page": "BasicMagics",
        "pastebin": "CodeMagics",
        "pdb": "ExecutionMagics",
        "pdef": "NamespaceMagics",
        "pdoc": "NamespaceMagics",
        "pfile": "NamespaceMagics",
        "pinfo": "NamespaceMagics",
        "pinfo2": "NamespaceMagics",
        "pip": "PipMagicOverrides",
        "popd": "OSMagics",
        "pprint": "BasicMagics",
        "precision": "BasicMagics",
        "prun": "ExecutionMagics",
        "psearch": "NamespaceMagics",
        "psource": "NamespaceMagics",
        "pushd": "OSMagics",
        "pwd": "OSMagics",
        "pycat": "OSMagics",
        "pylab": "PylabMagics",
        "qtconsole": "KernelMagics",
        "quickref": "BasicMagics",
        "recall": "HistoryMagics",
        "rehashx": "OSMagics",
        "reload_ext": "ExtensionMagics",
        "rep": "Other",
        "rerun": "HistoryMagics",
        "reset": "NamespaceMagics",
        "reset_selective": "NamespaceMagics",
        "restart_python": "RestartPythonMagic",
        "rm": "Other",
        "rmdir": "Other",
        "run": "ExecutionMagics",
        "save": "CodeMagics",
        "sc": "OSMagics",
        "set_env": "OSMagics",
        "store": "StoreMagics",
        "sx": "OSMagics",
        "system": "OSMagics",
        "tb": "ExecutionMagics",
        "time": "ExecutionMagics",
        "timeit": "ExecutionMagics",
        "unalias": "OSMagics",
        "unload_ext": "ExtensionMagics",
        "who": "NamespaceMagics",
        "who_ls": "NamespaceMagics",
        "whos": "NamespaceMagics",
        "xdel": "NamespaceMagics",
        "xmode": "BasicMagics"
       }
      },
      "text/plain": [
       "Available line magics:\n",
       "%alias  %alias_magic  %autoawait  %autocall  %automagic  %autosave  %bookmark  %cat  %cd  %clear  %code_wrap  %colors  %conda  %config  %connect_info  %cp  %debug  %dhist  %dirs  %doctest_mode  %ed  %edit  %env  %gui  %hist  %history  %killbgscripts  %ldir  %less  %lf  %lk  %ll  %load  %load_ext  %loadpy  %logoff  %logon  %logstart  %logstate  %logstop  %ls  %lsmagic  %lx  %macro  %magic  %man  %matplotlib  %mkdir  %more  %mv  %notebook  %page  %pastebin  %pdb  %pdef  %pdoc  %pfile  %pinfo  %pinfo2  %pip  %popd  %pprint  %precision  %prun  %psearch  %psource  %pushd  %pwd  %pycat  %pylab  %qtconsole  %quickref  %recall  %rehashx  %reload_ext  %rep  %rerun  %reset  %reset_selective  %restart_python  %rm  %rmdir  %run  %save  %sc  %set_env  %store  %sx  %system  %tb  %time  %timeit  %unalias  %unload_ext  %who  %who_ls  %whos  %xdel  %xmode\n",
       "\n",
       "Available cell magics:\n",
       "%%!  %%HTML  %%SVG  %%bash  %%capture  %%code_wrap  %%debug  %%file  %%html  %%javascript  %%js  %%latex  %%markdown  %%perl  %%prun  %%pypy  %%python  %%python2  %%python3  %%ruby  %%script  %%sh  %%svg  %%sx  %%system  %%time  %%timeit  %%writefile\n",
       "\n",
       "Automagic is ON, % prefix IS NOT needed for line magics."
      ]
     },
     "execution_count": 1,
     "metadata": {},
     "output_type": "execute_result"
    }
   ],
   "source": [
    "%lsmagic"
   ]
  },
  {
   "cell_type": "markdown",
   "metadata": {
    "application/vnd.databricks.v1+cell": {
     "cellMetadata": {
      "byteLimit": 2048000,
      "rowLimit": 10000
     },
     "inputWidgets": {},
     "nuid": "31cac82a-b2ea-49e8-b912-f531a2e8cc8f",
     "showTitle": false,
     "title": ""
    }
   },
   "source": [
    "#### %scala\n",
    "- **%scala**: muda o contexto da celula do notebook para interprestar o `Scala`\n"
   ]
  },
  {
   "cell_type": "code",
   "execution_count": 0,
   "metadata": {
    "application/vnd.databricks.v1+cell": {
     "cellMetadata": {
      "byteLimit": 2048000,
      "rowLimit": 10000
     },
     "inputWidgets": {},
     "nuid": "69499bca-ae34-465e-b333-189b7ab7d807",
     "showTitle": false,
     "title": ""
    }
   },
   "outputs": [
    {
     "output_type": "display_data",
     "data": {
      "text/html": [
       "<style scoped>\n",
       "  .ansiout {\n",
       "    display: block;\n",
       "    unicode-bidi: embed;\n",
       "    white-space: pre-wrap;\n",
       "    word-wrap: break-word;\n",
       "    word-break: break-all;\n",
       "    font-family: \"Menlo\", \"Monaco\", \"Consolas\", \"Ubuntu Mono\", \"Source Code Pro\", monospace;\n",
       "    font-size: 13px;\n",
       "    color: #555;\n",
       "    margin-left: 4px;\n",
       "    line-height: 19px;\n",
       "  }\n",
       "</style>\n",
       "<div class=\"ansiout\">mensagem: String = Ola mundo !!!\n",
       "</div>"
      ]
     },
     "metadata": {
      "application/vnd.databricks.v1+output": {
       "addedWidgets": {},
       "arguments": {},
       "data": "<div class=\"ansiout\">mensagem: String = Ola mundo !!!\n</div>",
       "datasetInfos": [],
       "metadata": {
        "isDbfsCommandResult": false
       },
       "removedWidgets": [],
       "type": "html"
      }
     },
     "output_type": "display_data"
    }
   ],
   "source": [
    "%scala\n",
    "val mensagem = \"Ola mundo !!!\""
   ]
  },
  {
   "cell_type": "markdown",
   "metadata": {
    "application/vnd.databricks.v1+cell": {
     "cellMetadata": {
      "byteLimit": 2048000,
      "rowLimit": 10000
     },
     "inputWidgets": {},
     "nuid": "dbfc3956-fe69-4508-8afa-d776bf3489f6",
     "showTitle": false,
     "title": ""
    }
   },
   "source": [
    "#### %sql\n",
    "- **%sql**: muda o contexto da celula do notebook para interpretar o `SQL`\n"
   ]
  },
  {
   "cell_type": "code",
   "execution_count": 0,
   "metadata": {
    "application/vnd.databricks.v1+cell": {
     "cellMetadata": {
      "byteLimit": 2048000,
      "implicitDf": true,
      "rowLimit": 10000
     },
     "inputWidgets": {},
     "nuid": "ad2d187f-37f5-4268-855d-d32d83c81892",
     "showTitle": false,
     "title": ""
    }
   },
   "outputs": [
    {
     "output_type": "display_data",
     "data": {
      "text/html": [
       "<style scoped>\n",
       "  .table-result-container {\n",
       "    max-height: 300px;\n",
       "    overflow: auto;\n",
       "  }\n",
       "  table, th, td {\n",
       "    border: 1px solid black;\n",
       "    border-collapse: collapse;\n",
       "  }\n",
       "  th, td {\n",
       "    padding: 5px;\n",
       "  }\n",
       "  th {\n",
       "    text-align: left;\n",
       "  }\n",
       "</style><div class='table-result-container'><table class='table-result'><thead style='background-color: white'><tr><th>msg</th></tr></thead><tbody><tr><td>ola mundo !!!</td></tr></tbody></table></div>"
      ]
     },
     "metadata": {
      "application/vnd.databricks.v1+output": {
       "addedWidgets": {},
       "aggData": [],
       "aggError": "",
       "aggOverflow": false,
       "aggSchema": [],
       "aggSeriesLimitReached": false,
       "aggType": "",
       "arguments": {},
       "columnCustomDisplayInfos": {},
       "data": [
        [
         "ola mundo !!!"
        ]
       ],
       "datasetInfos": [],
       "dbfsResultPath": null,
       "isJsonSchema": true,
       "metadata": {
        "createTempViewForImplicitDf": true,
        "dataframeName": "_sqldf",
        "executionCount": 2
       },
       "overflow": false,
       "plotOptions": {
        "customPlotOptions": {},
        "displayType": "table",
        "pivotAggregation": null,
        "pivotColumns": null,
        "xColumns": null,
        "yColumns": null
       },
       "removedWidgets": [],
       "schema": [
        {
         "metadata": "{}",
         "name": "msg",
         "type": "\"string\""
        }
       ],
       "type": "table"
      }
     },
     "output_type": "display_data"
    }
   ],
   "source": [
    "%sql\n",
    "select 'ola mundo !!!' as msg"
   ]
  },
  {
   "cell_type": "markdown",
   "metadata": {
    "application/vnd.databricks.v1+cell": {
     "cellMetadata": {
      "byteLimit": 2048000,
      "rowLimit": 10000
     },
     "inputWidgets": {},
     "nuid": "64c96fbb-ab83-4751-b01e-269c8b013d2e",
     "showTitle": false,
     "title": ""
    }
   },
   "source": [
    "#### %r\n",
    "- **%r**: muda o contexto da celula do notebook para interpretar o `R`\n"
   ]
  },
  {
   "cell_type": "code",
   "execution_count": 0,
   "metadata": {
    "application/vnd.databricks.v1+cell": {
     "cellMetadata": {
      "byteLimit": 2048000,
      "rowLimit": 10000
     },
     "inputWidgets": {},
     "nuid": "5542c1cf-0d2a-4107-8d29-05b366051363",
     "showTitle": false,
     "title": ""
    }
   },
   "outputs": [
    {
     "output_type": "stream",
     "name": "stdout",
     "output_type": "stream",
     "text": [
      "[1] \"Ola mundo\""
     ]
    }
   ],
   "source": [
    "%r\n",
    "msg <- 'Ola mundo'\n",
    "print(msg)"
   ]
  },
  {
   "cell_type": "markdown",
   "metadata": {
    "application/vnd.databricks.v1+cell": {
     "cellMetadata": {
      "byteLimit": 2048000,
      "rowLimit": 10000
     },
     "inputWidgets": {},
     "nuid": "585b5742-761a-475f-8c3b-5505f772944c",
     "showTitle": false,
     "title": ""
    }
   },
   "source": [
    "#### %python\n",
    "- **%python**: muda o contexto da celula do notebook para interpretar o `Python`"
   ]
  },
  {
   "cell_type": "code",
   "execution_count": 0,
   "metadata": {
    "application/vnd.databricks.v1+cell": {
     "cellMetadata": {
      "byteLimit": 2048000,
      "rowLimit": 10000
     },
     "inputWidgets": {},
     "nuid": "00e7a3fc-86fc-4eac-9792-e1d41ec1e7ad",
     "showTitle": false,
     "title": ""
    }
   },
   "outputs": [],
   "source": [
    "%python\n",
    "msg = 'Ola mundo!!!'"
   ]
  },
  {
   "cell_type": "markdown",
   "metadata": {
    "application/vnd.databricks.v1+cell": {
     "cellMetadata": {
      "byteLimit": 2048000,
      "rowLimit": 10000
     },
     "inputWidgets": {},
     "nuid": "9dd748a8-07ad-419a-9c69-0b2fac9ed24d",
     "showTitle": false,
     "title": ""
    }
   },
   "source": [
    "#### %pip\n",
    "- **%pip**: permite que você instale pacotes Python."
   ]
  },
  {
   "cell_type": "code",
   "execution_count": 0,
   "metadata": {
    "application/vnd.databricks.v1+cell": {
     "cellMetadata": {
      "byteLimit": 2048000,
      "rowLimit": 10000
     },
     "inputWidgets": {},
     "nuid": "b1d05d21-d6a4-415d-8228-27264a7442e9",
     "showTitle": false,
     "title": ""
    }
   },
   "outputs": [
    {
     "output_type": "stream",
     "name": "stdout",
     "output_type": "stream",
     "text": [
      "Requirement already satisfied: numpy in /databricks/python3/lib/python3.11/site-packages (1.23.5)\n\u001B[43mNote: you may need to restart the kernel using %restart_python or dbutils.library.restartPython() to use updated packages.\u001B[0m\n"
     ]
    }
   ],
   "source": [
    "%pip install numpy\n",
    "\n"
   ]
  },
  {
   "cell_type": "markdown",
   "metadata": {
    "application/vnd.databricks.v1+cell": {
     "cellMetadata": {
      "byteLimit": 2048000,
      "rowLimit": 10000
     },
     "inputWidgets": {},
     "nuid": "8b915b85-20dd-41e2-be3e-08bc2f503e3e",
     "showTitle": false,
     "title": ""
    }
   },
   "source": [
    "#### %sh\n",
    "- **%sh**: executa comandos shell nos nós do cluster.\n"
   ]
  },
  {
   "cell_type": "code",
   "execution_count": 0,
   "metadata": {
    "application/vnd.databricks.v1+cell": {
     "cellMetadata": {
      "byteLimit": 2048000,
      "rowLimit": 10000
     },
     "inputWidgets": {},
     "nuid": "bd222d32-ad8e-4767-b686-5b55e04a5eba",
     "showTitle": false,
     "title": ""
    }
   },
   "outputs": [
    {
     "output_type": "stream",
     "name": "stderr",
     "output_type": "stream",
     "text": [
      "Connection to raw.githubusercontent.com (185.199.108.133) 443 port [tcp/https] succeeded!\n"
     ]
    }
   ],
   "source": [
    "%sh\n",
    "# verificar se o servico está respondendo em uma porta\n",
    "nc -vz -w 3 raw.githubusercontent.com 443\n"
   ]
  },
  {
   "cell_type": "markdown",
   "metadata": {
    "application/vnd.databricks.v1+cell": {
     "cellMetadata": {
      "byteLimit": 2048000,
      "rowLimit": 10000
     },
     "inputWidgets": {},
     "nuid": "2055596f-22b4-44da-aa65-2ef67d18d4d7",
     "showTitle": false,
     "title": ""
    }
   },
   "source": [
    "#### %fs\n",
    "- **%fs**: permite que você interaja com o sistema de arquivos Databricks\n",
    "\n",
    "Usar `dbutils.fs.help()` mostrar os comandos suportados"
   ]
  },
  {
   "cell_type": "code",
   "execution_count": 0,
   "metadata": {
    "application/vnd.databricks.v1+cell": {
     "cellMetadata": {
      "byteLimit": 2048000,
      "rowLimit": 10000
     },
     "inputWidgets": {},
     "nuid": "717f99ff-8283-455d-a421-bd62a37ed251",
     "showTitle": false,
     "title": ""
    }
   },
   "outputs": [
    {
     "output_type": "display_data",
     "data": {
      "text/html": [
       "<style scoped>\n",
       "  .table-result-container {\n",
       "    max-height: 300px;\n",
       "    overflow: auto;\n",
       "  }\n",
       "  table, th, td {\n",
       "    border: 1px solid black;\n",
       "    border-collapse: collapse;\n",
       "  }\n",
       "  th, td {\n",
       "    padding: 5px;\n",
       "  }\n",
       "  th {\n",
       "    text-align: left;\n",
       "  }\n",
       "</style><div class='table-result-container'><table class='table-result'><thead style='background-color: white'><tr><th>path</th><th>name</th><th>size</th><th>modificationTime</th></tr></thead><tbody><tr><td>dbfs:/Volume/</td><td>Volume/</td><td>0</td><td>0</td></tr><tr><td>dbfs:/Volumes/</td><td>Volumes/</td><td>0</td><td>0</td></tr><tr><td>dbfs:/databricks-datasets/</td><td>databricks-datasets/</td><td>0</td><td>0</td></tr><tr><td>dbfs:/databricks-results/</td><td>databricks-results/</td><td>0</td><td>0</td></tr><tr><td>dbfs:/tmp/</td><td>tmp/</td><td>0</td><td>1724691588521</td></tr><tr><td>dbfs:/volume/</td><td>volume/</td><td>0</td><td>0</td></tr><tr><td>dbfs:/volumes/</td><td>volumes/</td><td>0</td><td>0</td></tr></tbody></table></div>"
      ]
     },
     "metadata": {
      "application/vnd.databricks.v1+output": {
       "addedWidgets": {},
       "aggData": [],
       "aggError": "",
       "aggOverflow": false,
       "aggSchema": [],
       "aggSeriesLimitReached": false,
       "aggType": "",
       "arguments": {},
       "columnCustomDisplayInfos": {},
       "data": [
        [
         "dbfs:/Volume/",
         "Volume/",
         0,
         0
        ],
        [
         "dbfs:/Volumes/",
         "Volumes/",
         0,
         0
        ],
        [
         "dbfs:/databricks-datasets/",
         "databricks-datasets/",
         0,
         0
        ],
        [
         "dbfs:/databricks-results/",
         "databricks-results/",
         0,
         0
        ],
        [
         "dbfs:/tmp/",
         "tmp/",
         0,
         1724691588521
        ],
        [
         "dbfs:/volume/",
         "volume/",
         0,
         0
        ],
        [
         "dbfs:/volumes/",
         "volumes/",
         0,
         0
        ]
       ],
       "datasetInfos": [],
       "dbfsResultPath": null,
       "isJsonSchema": true,
       "metadata": {
        "isDbfsCommandResult": false
       },
       "overflow": false,
       "plotOptions": {
        "customPlotOptions": {},
        "displayType": "table",
        "pivotAggregation": null,
        "pivotColumns": null,
        "xColumns": null,
        "yColumns": null
       },
       "removedWidgets": [],
       "schema": [
        {
         "metadata": "{}",
         "name": "path",
         "type": "\"string\""
        },
        {
         "metadata": "{}",
         "name": "name",
         "type": "\"string\""
        },
        {
         "metadata": "{}",
         "name": "size",
         "type": "\"long\""
        },
        {
         "metadata": "{}",
         "name": "modificationTime",
         "type": "\"long\""
        }
       ],
       "type": "table"
      }
     },
     "output_type": "display_data"
    }
   ],
   "source": [
    "%fs\n",
    "ls /"
   ]
  },
  {
   "cell_type": "markdown",
   "metadata": {
    "application/vnd.databricks.v1+cell": {
     "cellMetadata": {
      "byteLimit": 2048000,
      "rowLimit": 10000
     },
     "inputWidgets": {},
     "nuid": "d5554ae2-bf2f-4960-a756-be4849caa220",
     "showTitle": false,
     "title": ""
    }
   },
   "source": [
    "#### %who\n",
    "- **%who**: lista todas as variáveis ​​no escopo atual\n"
   ]
  },
  {
   "cell_type": "code",
   "execution_count": 0,
   "metadata": {
    "application/vnd.databricks.v1+cell": {
     "cellMetadata": {
      "byteLimit": 2048000,
      "rowLimit": 10000
     },
     "inputWidgets": {},
     "nuid": "7d805d5c-3a21-4a67-a3fb-8d722ebe85bf",
     "showTitle": false,
     "title": ""
    }
   },
   "outputs": [
    {
     "output_type": "stream",
     "name": "stdout",
     "output_type": "stream",
     "text": [
      "msg\t \n"
     ]
    }
   ],
   "source": [
    "%who"
   ]
  },
  {
   "cell_type": "markdown",
   "metadata": {
    "application/vnd.databricks.v1+cell": {
     "cellMetadata": {
      "byteLimit": 2048000,
      "rowLimit": 10000
     },
     "inputWidgets": {},
     "nuid": "8be62734-cade-49ff-9d3b-ac5be11fc3d9",
     "showTitle": false,
     "title": ""
    }
   },
   "source": [
    "#### %run\n",
    "- %run: executa um arquivo um notebook."
   ]
  },
  {
   "cell_type": "code",
   "execution_count": 0,
   "metadata": {
    "application/vnd.databricks.v1+cell": {
     "cellMetadata": {
      "byteLimit": 2048000,
      "rowLimit": 10000
     },
     "inputWidgets": {},
     "nuid": "adbaf333-0f4b-49f1-9561-16c056c5f167",
     "showTitle": false,
     "title": ""
    }
   },
   "outputs": [
    {
     "output_type": "execute_result",
     "data": {
      "text/html": [
       "\n",
       "            <div>\n",
       "                <p><b>SparkSession - hive</b></p>\n",
       "                \n",
       "        <div>\n",
       "            <p><b>SparkContext</b></p>\n",
       "\n",
       "            <p><a href=\"/?o=833106953156307#setting/sparkui/0824-141940-e6ohrinj/driver-2435708855371687207\">Spark UI</a></p>\n",
       "\n",
       "            <dl>\n",
       "              <dt>Version</dt>\n",
       "                <dd><code>v3.5.0</code></dd>\n",
       "              <dt>Master</dt>\n",
       "                <dd><code>local[*, 4]</code></dd>\n",
       "              <dt>AppName</dt>\n",
       "                <dd><code>Databricks Shell</code></dd>\n",
       "            </dl>\n",
       "        </div>\n",
       "        \n",
       "            </div>\n",
       "        "
      ],
      "text/plain": [
       "<pyspark.sql.session.SparkSession at 0x7f80b557ff50>"
      ]
     },
     "execution_count": 7,
     "metadata": {},
     "output_type": "execute_result"
    }
   ],
   "source": [
    "%run ./ola-mundo"
   ]
  },
  {
   "cell_type": "markdown",
   "metadata": {
    "application/vnd.databricks.v1+cell": {
     "cellMetadata": {
      "byteLimit": 2048000,
      "rowLimit": 10000
     },
     "inputWidgets": {},
     "nuid": "105402f1-bd53-47ca-94fa-14b8d09e6ab8",
     "showTitle": false,
     "title": ""
    }
   },
   "source": [
    "\n",
    "#### %config e %matplotlib\n",
    "\n",
    "- **%config**: permite definir opções de configuração para o notebook\n",
    "- **%matplotlib**: configura o back-end matplotlib\n"
   ]
  },
  {
   "cell_type": "markdown",
   "metadata": {
    "application/vnd.databricks.v1+cell": {
     "cellMetadata": {
      "byteLimit": 2048000,
      "rowLimit": 10000
     },
     "inputWidgets": {},
     "nuid": "1600a53b-e669-4d98-bd45-2d24371ae54c",
     "showTitle": false,
     "title": ""
    }
   },
   "source": [
    "#### %env\n",
    "- %env: permite que seja exibida e definida as variáveis"
   ]
  },
  {
   "cell_type": "code",
   "execution_count": 0,
   "metadata": {
    "application/vnd.databricks.v1+cell": {
     "cellMetadata": {
      "byteLimit": 2048000,
      "rowLimit": 10000
     },
     "inputWidgets": {},
     "nuid": "9377ed28-f9a2-4609-8ead-35340d1828ed",
     "showTitle": false,
     "title": ""
    }
   },
   "outputs": [
    {
     "output_type": "execute_result",
     "data": {
      "text/plain": [
       "{'SHELL': '/bin/bash',\n",
       " 'ENABLE_APPCDS': 'false',\n",
       " 'PIP_NO_INPUT': '1',\n",
       " 'SUDO_GID': '0',\n",
       " 'PYTHONHASHSEED': '0',\n",
       " 'DISABLE_LOCAL_FILESYSTEM': 'false',\n",
       " 'JAVA_HOME': '/usr/lib/jvm/zulu8-ca-amd64/jre/',\n",
       " 'MLFLOW_PYTHON_EXECUTABLE': '/databricks/spark/scripts/mlflow_python.sh',\n",
       " 'PYDEVD_INTERRUPT_THREAD_TIMEOUT': '15.0',\n",
       " 'JAVA_OPTS': '  -Djava.io.tmpdir=/local_disk0/tmp -XX:-OmitStackTraceInFastThrow -Djava.security.properties=/databricks/spark/dbconf/java/extra.security -XX:-UseContainerSupport -XX:+PrintFlagsFinal -XX:+PrintGCDateStamps -XX:+PrintGCDetails -verbose:gc -Xss4m -Djava.library.path=/usr/java/packages/lib/amd64:/usr/lib64:/lib64:/lib:/usr/lib:/usr/lib/x86_64-linux-gnu/jni:/lib/x86_64-linux-gnu:/usr/lib/x86_64-linux-gnu:/usr/lib/jni -Djavax.xml.datatype.DatatypeFactory=com.sun.org.apache.xerces.internal.jaxp.datatype.DatatypeFactoryImpl -Djavax.xml.parsers.DocumentBuilderFactory=com.sun.org.apache.xerces.internal.jaxp.DocumentBuilderFactoryImpl -Djavax.xml.parsers.SAXParserFactory=com.sun.org.apache.xerces.internal.jaxp.SAXParserFactoryImpl -Djavax.xml.validation.SchemaFactory:http://www.w3.org/2001/XMLSchema=com.sun.org.apache.xerces.internal.jaxp.validation.XMLSchemaFactory -Dorg.xml.sax.driver=com.sun.org.apache.xerces.internal.parsers.SAXParser -Dorg.w3c.dom.DOMImplementationSourceList=com.sun.org.apache.xerces.internal.dom.DOMXSImplementationSourceImpl -Djavax.net.ssl.sessionCacheSize=10000 -Dscala.reflect.runtime.disable.typetag.cache=true -Dcom.google.cloud.spark.bigquery.repackaged.io.netty.tryReflectionSetAccessible=true -Dio.netty.tryReflectionSetAccessible=true -Dlog4j2.formatMsgNoLookups=true      -Ddatabricks.serviceName=driver-1 -Xms7850m -Xmx7850m -Dspark.ui.port=40001 -Dspark.executor.extraJavaOptions=\"-Djava.io.tmpdir=/local_disk0/tmp -XX:ReservedCodeCacheSize=512m -XX:+UseCodeCacheFlushing -XX:PerMethodRecompilationCutoff=-1 -XX:PerBytecodeRecompilationCutoff=-1 -Djava.security.properties=/databricks/spark/dbconf/java/extra.security -XX:-UseContainerSupport -XX:+PrintFlagsFinal -XX:+PrintGCDateStamps -XX:+PrintGCDetails -verbose:gc -Xss4m -Djava.library.path=/usr/java/packages/lib/amd64:/usr/lib64:/lib64:/lib:/usr/lib:/usr/lib/x86_64-linux-gnu/jni:/lib/x86_64-linux-gnu:/usr/lib/x86_64-linux-gnu:/usr/lib/jni -Djavax.xml.datatype.DatatypeFactory=com.sun.org.apache.xerces.internal.jaxp.datatype.DatatypeFactoryImpl -Djavax.xml.parsers.DocumentBuilderFactory=com.sun.org.apache.xerces.internal.jaxp.DocumentBuilderFactoryImpl -Djavax.xml.parsers.SAXParserFactory=com.sun.org.apache.xerces.internal.jaxp.SAXParserFactoryImpl -Djavax.xml.validation.SchemaFactory:http://www.w3.org/2001/XMLSchema=com.sun.org.apache.xerces.internal.jaxp.validation.XMLSchemaFactory -Dorg.xml.sax.driver=com.sun.org.apache.xerces.internal.parsers.SAXParser -Dorg.w3c.dom.DOMImplementationSourceList=com.sun.org.apache.xerces.internal.dom.DOMXSImplementationSourceImpl -Djavax.net.ssl.sessionCacheSize=10000 -Dscala.reflect.runtime.disable.typetag.cache=true -Dcom.google.cloud.spark.bigquery.repackaged.io.netty.tryReflectionSetAccessible=true -Dio.netty.tryReflectionSetAccessible=true -Dlog4j2.formatMsgNoLookups=true       -Ddatabricks.serviceName=spark-executor-1\" -Dspark.executor.memory=8874m -Dspark.executor.extraClassPath=/databricks/spark/dbconf/log4j/executor:/databricks/spark/dbconf/jets3t/:/databricks/spark/dbconf/hadoop:/databricks/hive/conf:/databricks/jars/*',\n",
       " 'SUDO_COMMAND': '/usr/bin/lxc-attach -n 0824-141940-e6ohrinj_10_4_52_242 -- env DB_HOME=/databricks CLUSTER_DB_HOME=/databricks bash -l -c bash ${DB_HOME:-/home/ubuntu/databricks}/spark/scripts/start_chauffeur.sh /tmp/chauffeur-env.sh',\n",
       " 'SUDO_USER': 'root',\n",
       " 'PWD': '/databricks/driver',\n",
       " 'LOGNAME': 'root',\n",
       " 'DB_HOME': '/databricks',\n",
       " 'KOALAS_USAGE_LOGGER': 'pyspark.databricks.koalas.usage_logger',\n",
       " 'PYARROW_IGNORE_TIMEZONE': '1',\n",
       " 'container': 'lxc',\n",
       " 'HIVE_HOME': '/home/ubuntu/hive-0.9.0-bin',\n",
       " 'ICU_DATA': '/databricks/native',\n",
       " 'DRIVER_PID_FILE': '/tmp/driver-daemon.pid',\n",
       " 'HOME': '/root',\n",
       " 'DEFAULT_DATABRICKS_ROOT_VIRTUALENV_ENV': '/databricks/python3',\n",
       " 'LANG': 'C.UTF-8',\n",
       " 'MLFLOW_TRACKING_URI': 'databricks',\n",
       " 'R_LIBS': '/databricks/spark/R/lib:/local_disk0/.ephemeral_nfs/cluster_libraries/r',\n",
       " 'VIRTUAL_ENV': '/local_disk0/.ephemeral_nfs/envs/pythonEnv-1af4a31a-41b7-4b36-a81f-e0ccde9f8f59',\n",
       " 'DATABRICKS_CLUSTER_LIBS_R_ROOT_DIR': 'r',\n",
       " 'CLUSTER_DB_HOME': '/databricks',\n",
       " 'PYSPARK_GATEWAY_SECRET': '<hidden>',\n",
       " 'DATABRICKS_RUNTIME_VERSION': '15.4',\n",
       " 'PYSPARK_PYTHON': '/databricks/python/bin/python',\n",
       " 'DATABRICKS_ROOT_VIRTUALENV_ENV': '/databricks/python3',\n",
       " 'PYTHONPATH': '/databricks/spark/python:/databricks/spark/python/lib/py4j-0.10.9.7-src.zip:/databricks/jars/spark--driver--driver-spark_3.5_2.12_deploy.jar:/WSFS_NOTEBOOK_DIR:/databricks/spark/python:/databricks/python_shell',\n",
       " 'TERM': 'xterm-color',\n",
       " 'USER': 'root',\n",
       " 'SPARK_PUBLIC_DNS': '10.4.52.242',\n",
       " 'ENABLE_CLASSLOADING_LOGS': '',\n",
       " 'RAY_TMPDIR': '/local_disk0/tmp',\n",
       " 'SPARK_LOCAL_DIRS': '/local_disk0',\n",
       " 'PINNED_THREAD_MODE': 'true',\n",
       " 'SHLVL': '0',\n",
       " 'MASTER': 'local[8]',\n",
       " 'SPARK_HOME': '/databricks/spark',\n",
       " 'SPARK_LOCAL_IP': '10.4.52.242',\n",
       " 'MLFLOW_CONDA_HOME': '/databricks/conda',\n",
       " 'PYSPARK_GATEWAY_PORT': '35379',\n",
       " 'VIRTUAL_ENV_PROMPT': 'pythonEnv-1af4a31a-41b7-4b36-a81f-e0ccde9f8f59',\n",
       " 'MLFLOW_DEPLOYMENTS_TARGET': 'databricks',\n",
       " 'MPLBACKEND': 'AGG',\n",
       " 'CLASSPATH': '/databricks/spark/dbconf/jets3t/:/databricks/spark/dbconf/log4j/driver:/databricks/hive/conf:/databricks/spark/dbconf/hadoop:/databricks/jars/*',\n",
       " 'SPARK_CONF_DIR': '/databricks/spark/conf',\n",
       " 'SPARK_DIST_CLASSPATH': '/databricks/spark/dbconf/log4j/driver:/databricks/jars/*',\n",
       " 'MLFLOW_GATEWAY_URI': 'databricks',\n",
       " 'PS1': '(pythonEnv-1af4a31a-41b7-4b36-a81f-e0ccde9f8f59) ',\n",
       " 'PYENV_ROOT': '/databricks/.pyenv',\n",
       " 'ENABLE_IPTABLES': 'false',\n",
       " 'JUPYTER_WIDGETS_ECHO': '1',\n",
       " 'DATABRICKS_LIBS_NFS_ROOT_PATH': '/local_disk0/.ephemeral_nfs',\n",
       " 'SPARK_ENV_LOADED': '1',\n",
       " 'DATABRICKS_CLUSTER_LIBS_ROOT_DIR': 'cluster_libraries',\n",
       " 'PATH': '/local_disk0/.ephemeral_nfs/envs/pythonEnv-1af4a31a-41b7-4b36-a81f-e0ccde9f8f59/bin:/local_disk0/.ephemeral_nfs/cluster_libraries/python/bin:/databricks/.pyenv/bin:/usr/local/nvidia/bin:/databricks/python3/bin:/usr/local/sbin:/usr/local/bin:/usr/sbin:/usr/bin:/sbin:/bin:/snap/bin',\n",
       " 'DATABRICKS_LIBS_NFS_ROOT_DIR': '.ephemeral_nfs',\n",
       " 'SUDO_UID': '0',\n",
       " 'OMPI_MCA_btl_tcp_if_include': 'eth0',\n",
       " 'DATABRICKS_CLUSTER_LIBS_PYTHON_ROOT_DIR': 'python',\n",
       " 'SPARK_SCALA_VERSION': '2.12',\n",
       " 'MAIL': '/var/mail/root',\n",
       " 'SCALA_VERSION': '2.10',\n",
       " 'OLDPWD': '/databricks/chauffeur',\n",
       " 'SPARK_WORKER_MEMORY': '11093m',\n",
       " 'PYDEVD_USE_FRAME_EVAL': 'NO',\n",
       " 'SPARK_AUTH_SOCKET_TIMEOUT': '15',\n",
       " 'SPARK_BUFFER_SIZE': '65536',\n",
       " 'CLICOLOR': '1',\n",
       " 'FORCE_COLOR': '1',\n",
       " 'CLICOLOR_FORCE': '1',\n",
       " 'PAGER': 'cat',\n",
       " 'GIT_PAGER': 'cat'}"
      ]
     },
     "execution_count": 9,
     "metadata": {},
     "output_type": "execute_result"
    }
   ],
   "source": [
    "# exibindo as variaveis\n",
    "%env"
   ]
  },
  {
   "cell_type": "code",
   "execution_count": 0,
   "metadata": {
    "application/vnd.databricks.v1+cell": {
     "cellMetadata": {
      "byteLimit": 2048000,
      "rowLimit": 10000
     },
     "inputWidgets": {},
     "nuid": "47b0b724-ce8a-4987-ad38-e909ec1d1e0b",
     "showTitle": false,
     "title": ""
    }
   },
   "outputs": [
    {
     "output_type": "stream",
     "name": "stdout",
     "output_type": "stream",
     "text": [
      "env: TESTE_ENV='SUPER TESTE 2'\n"
     ]
    }
   ],
   "source": [
    "# criando / atualizando a variavel \n",
    "%env TESTE_ENV='SUPER TESTE 2'"
   ]
  },
  {
   "cell_type": "code",
   "execution_count": 0,
   "metadata": {
    "application/vnd.databricks.v1+cell": {
     "cellMetadata": {
      "byteLimit": 2048000,
      "rowLimit": 10000
     },
     "inputWidgets": {},
     "nuid": "cad110ae-ffef-4960-a1ea-b92050d56eb8",
     "showTitle": false,
     "title": ""
    }
   },
   "outputs": [
    {
     "output_type": "execute_result",
     "data": {
      "text/plain": [
       "{'SHELL': '/bin/bash',\n",
       " 'ENABLE_APPCDS': 'false',\n",
       " 'PIP_NO_INPUT': '1',\n",
       " 'SUDO_GID': '0',\n",
       " 'PYTHONHASHSEED': '0',\n",
       " 'DISABLE_LOCAL_FILESYSTEM': 'false',\n",
       " 'JAVA_HOME': '/usr/lib/jvm/zulu8-ca-amd64/jre/',\n",
       " 'MLFLOW_PYTHON_EXECUTABLE': '/databricks/spark/scripts/mlflow_python.sh',\n",
       " 'PYDEVD_INTERRUPT_THREAD_TIMEOUT': '15.0',\n",
       " 'JAVA_OPTS': '  -Djava.io.tmpdir=/local_disk0/tmp -XX:-OmitStackTraceInFastThrow -Djava.security.properties=/databricks/spark/dbconf/java/extra.security -XX:-UseContainerSupport -XX:+PrintFlagsFinal -XX:+PrintGCDateStamps -XX:+PrintGCDetails -verbose:gc -Xss4m -Djava.library.path=/usr/java/packages/lib/amd64:/usr/lib64:/lib64:/lib:/usr/lib:/usr/lib/x86_64-linux-gnu/jni:/lib/x86_64-linux-gnu:/usr/lib/x86_64-linux-gnu:/usr/lib/jni -Djavax.xml.datatype.DatatypeFactory=com.sun.org.apache.xerces.internal.jaxp.datatype.DatatypeFactoryImpl -Djavax.xml.parsers.DocumentBuilderFactory=com.sun.org.apache.xerces.internal.jaxp.DocumentBuilderFactoryImpl -Djavax.xml.parsers.SAXParserFactory=com.sun.org.apache.xerces.internal.jaxp.SAXParserFactoryImpl -Djavax.xml.validation.SchemaFactory:http://www.w3.org/2001/XMLSchema=com.sun.org.apache.xerces.internal.jaxp.validation.XMLSchemaFactory -Dorg.xml.sax.driver=com.sun.org.apache.xerces.internal.parsers.SAXParser -Dorg.w3c.dom.DOMImplementationSourceList=com.sun.org.apache.xerces.internal.dom.DOMXSImplementationSourceImpl -Djavax.net.ssl.sessionCacheSize=10000 -Dscala.reflect.runtime.disable.typetag.cache=true -Dcom.google.cloud.spark.bigquery.repackaged.io.netty.tryReflectionSetAccessible=true -Dio.netty.tryReflectionSetAccessible=true -Dlog4j2.formatMsgNoLookups=true      -Ddatabricks.serviceName=driver-1 -Xms7850m -Xmx7850m -Dspark.ui.port=40001 -Dspark.executor.extraJavaOptions=\"-Djava.io.tmpdir=/local_disk0/tmp -XX:ReservedCodeCacheSize=512m -XX:+UseCodeCacheFlushing -XX:PerMethodRecompilationCutoff=-1 -XX:PerBytecodeRecompilationCutoff=-1 -Djava.security.properties=/databricks/spark/dbconf/java/extra.security -XX:-UseContainerSupport -XX:+PrintFlagsFinal -XX:+PrintGCDateStamps -XX:+PrintGCDetails -verbose:gc -Xss4m -Djava.library.path=/usr/java/packages/lib/amd64:/usr/lib64:/lib64:/lib:/usr/lib:/usr/lib/x86_64-linux-gnu/jni:/lib/x86_64-linux-gnu:/usr/lib/x86_64-linux-gnu:/usr/lib/jni -Djavax.xml.datatype.DatatypeFactory=com.sun.org.apache.xerces.internal.jaxp.datatype.DatatypeFactoryImpl -Djavax.xml.parsers.DocumentBuilderFactory=com.sun.org.apache.xerces.internal.jaxp.DocumentBuilderFactoryImpl -Djavax.xml.parsers.SAXParserFactory=com.sun.org.apache.xerces.internal.jaxp.SAXParserFactoryImpl -Djavax.xml.validation.SchemaFactory:http://www.w3.org/2001/XMLSchema=com.sun.org.apache.xerces.internal.jaxp.validation.XMLSchemaFactory -Dorg.xml.sax.driver=com.sun.org.apache.xerces.internal.parsers.SAXParser -Dorg.w3c.dom.DOMImplementationSourceList=com.sun.org.apache.xerces.internal.dom.DOMXSImplementationSourceImpl -Djavax.net.ssl.sessionCacheSize=10000 -Dscala.reflect.runtime.disable.typetag.cache=true -Dcom.google.cloud.spark.bigquery.repackaged.io.netty.tryReflectionSetAccessible=true -Dio.netty.tryReflectionSetAccessible=true -Dlog4j2.formatMsgNoLookups=true       -Ddatabricks.serviceName=spark-executor-1\" -Dspark.executor.memory=8874m -Dspark.executor.extraClassPath=/databricks/spark/dbconf/log4j/executor:/databricks/spark/dbconf/jets3t/:/databricks/spark/dbconf/hadoop:/databricks/hive/conf:/databricks/jars/*',\n",
       " 'SUDO_COMMAND': '/usr/bin/lxc-attach -n 0824-141940-e6ohrinj_10_4_52_242 -- env DB_HOME=/databricks CLUSTER_DB_HOME=/databricks bash -l -c bash ${DB_HOME:-/home/ubuntu/databricks}/spark/scripts/start_chauffeur.sh /tmp/chauffeur-env.sh',\n",
       " 'SUDO_USER': 'root',\n",
       " 'PWD': '/databricks/driver',\n",
       " 'LOGNAME': 'root',\n",
       " 'DB_HOME': '/databricks',\n",
       " 'KOALAS_USAGE_LOGGER': 'pyspark.databricks.koalas.usage_logger',\n",
       " 'PYARROW_IGNORE_TIMEZONE': '1',\n",
       " 'container': 'lxc',\n",
       " 'HIVE_HOME': '/home/ubuntu/hive-0.9.0-bin',\n",
       " 'ICU_DATA': '/databricks/native',\n",
       " 'DRIVER_PID_FILE': '/tmp/driver-daemon.pid',\n",
       " 'HOME': '/root',\n",
       " 'DEFAULT_DATABRICKS_ROOT_VIRTUALENV_ENV': '/databricks/python3',\n",
       " 'LANG': 'C.UTF-8',\n",
       " 'MLFLOW_TRACKING_URI': 'databricks',\n",
       " 'R_LIBS': '/databricks/spark/R/lib:/local_disk0/.ephemeral_nfs/cluster_libraries/r',\n",
       " 'VIRTUAL_ENV': '/local_disk0/.ephemeral_nfs/envs/pythonEnv-1af4a31a-41b7-4b36-a81f-e0ccde9f8f59',\n",
       " 'DATABRICKS_CLUSTER_LIBS_R_ROOT_DIR': 'r',\n",
       " 'CLUSTER_DB_HOME': '/databricks',\n",
       " 'PYSPARK_GATEWAY_SECRET': '<hidden>',\n",
       " 'DATABRICKS_RUNTIME_VERSION': '15.4',\n",
       " 'PYSPARK_PYTHON': '/databricks/python/bin/python',\n",
       " 'DATABRICKS_ROOT_VIRTUALENV_ENV': '/databricks/python3',\n",
       " 'PYTHONPATH': '/databricks/spark/python:/databricks/spark/python/lib/py4j-0.10.9.7-src.zip:/databricks/jars/spark--driver--driver-spark_3.5_2.12_deploy.jar:/WSFS_NOTEBOOK_DIR:/databricks/spark/python:/databricks/python_shell',\n",
       " 'TERM': 'xterm-color',\n",
       " 'USER': 'root',\n",
       " 'SPARK_PUBLIC_DNS': '10.4.52.242',\n",
       " 'ENABLE_CLASSLOADING_LOGS': '',\n",
       " 'RAY_TMPDIR': '/local_disk0/tmp',\n",
       " 'SPARK_LOCAL_DIRS': '/local_disk0',\n",
       " 'PINNED_THREAD_MODE': 'true',\n",
       " 'SHLVL': '0',\n",
       " 'MASTER': 'local[8]',\n",
       " 'SPARK_HOME': '/databricks/spark',\n",
       " 'SPARK_LOCAL_IP': '10.4.52.242',\n",
       " 'MLFLOW_CONDA_HOME': '/databricks/conda',\n",
       " 'PYSPARK_GATEWAY_PORT': '35379',\n",
       " 'VIRTUAL_ENV_PROMPT': 'pythonEnv-1af4a31a-41b7-4b36-a81f-e0ccde9f8f59',\n",
       " 'MLFLOW_DEPLOYMENTS_TARGET': 'databricks',\n",
       " 'MPLBACKEND': 'AGG',\n",
       " 'CLASSPATH': '/databricks/spark/dbconf/jets3t/:/databricks/spark/dbconf/log4j/driver:/databricks/hive/conf:/databricks/spark/dbconf/hadoop:/databricks/jars/*',\n",
       " 'SPARK_CONF_DIR': '/databricks/spark/conf',\n",
       " 'SPARK_DIST_CLASSPATH': '/databricks/spark/dbconf/log4j/driver:/databricks/jars/*',\n",
       " 'MLFLOW_GATEWAY_URI': 'databricks',\n",
       " 'PS1': '(pythonEnv-1af4a31a-41b7-4b36-a81f-e0ccde9f8f59) ',\n",
       " 'PYENV_ROOT': '/databricks/.pyenv',\n",
       " 'ENABLE_IPTABLES': 'false',\n",
       " 'JUPYTER_WIDGETS_ECHO': '1',\n",
       " 'DATABRICKS_LIBS_NFS_ROOT_PATH': '/local_disk0/.ephemeral_nfs',\n",
       " 'SPARK_ENV_LOADED': '1',\n",
       " 'DATABRICKS_CLUSTER_LIBS_ROOT_DIR': 'cluster_libraries',\n",
       " 'PATH': '/local_disk0/.ephemeral_nfs/envs/pythonEnv-1af4a31a-41b7-4b36-a81f-e0ccde9f8f59/bin:/local_disk0/.ephemeral_nfs/cluster_libraries/python/bin:/databricks/.pyenv/bin:/usr/local/nvidia/bin:/databricks/python3/bin:/usr/local/sbin:/usr/local/bin:/usr/sbin:/usr/bin:/sbin:/bin:/snap/bin',\n",
       " 'DATABRICKS_LIBS_NFS_ROOT_DIR': '.ephemeral_nfs',\n",
       " 'SUDO_UID': '0',\n",
       " 'OMPI_MCA_btl_tcp_if_include': 'eth0',\n",
       " 'DATABRICKS_CLUSTER_LIBS_PYTHON_ROOT_DIR': 'python',\n",
       " 'SPARK_SCALA_VERSION': '2.12',\n",
       " 'MAIL': '/var/mail/root',\n",
       " 'SCALA_VERSION': '2.10',\n",
       " 'OLDPWD': '/databricks/chauffeur',\n",
       " 'SPARK_WORKER_MEMORY': '11093m',\n",
       " 'PYDEVD_USE_FRAME_EVAL': 'NO',\n",
       " 'SPARK_AUTH_SOCKET_TIMEOUT': '15',\n",
       " 'SPARK_BUFFER_SIZE': '65536',\n",
       " 'CLICOLOR': '1',\n",
       " 'FORCE_COLOR': '1',\n",
       " 'CLICOLOR_FORCE': '1',\n",
       " 'PAGER': 'cat',\n",
       " 'GIT_PAGER': 'cat',\n",
       " 'TESTE_ENV': \"'SUPER TESTE 2'\"}"
      ]
     },
     "execution_count": 11,
     "metadata": {},
     "output_type": "execute_result"
    }
   ],
   "source": [
    "%env"
   ]
  },
  {
   "cell_type": "code",
   "execution_count": 0,
   "metadata": {
    "application/vnd.databricks.v1+cell": {
     "cellMetadata": {
      "byteLimit": 2048000,
      "rowLimit": 10000
     },
     "inputWidgets": {},
     "nuid": "c857a9a3-fd94-427f-8e7b-cb3c82b2323b",
     "showTitle": false,
     "title": ""
    }
   },
   "outputs": [
    {
     "output_type": "stream",
     "name": "stdout",
     "output_type": "stream",
     "text": [
      "env: TESTE2_ENV='SUPER TESTE TESTE !!!'\n"
     ]
    }
   ],
   "source": [
    "%set_env TESTE2_ENV='SUPER TESTE TESTE !!!'"
   ]
  },
  {
   "cell_type": "code",
   "execution_count": 0,
   "metadata": {
    "application/vnd.databricks.v1+cell": {
     "cellMetadata": {
      "byteLimit": 2048000,
      "rowLimit": 10000
     },
     "inputWidgets": {},
     "nuid": "fb303bd5-eb17-4980-94c5-06015bb1365f",
     "showTitle": false,
     "title": ""
    }
   },
   "outputs": [
    {
     "output_type": "execute_result",
     "data": {
      "text/plain": [
       "{'SHELL': '/bin/bash',\n",
       " 'ENABLE_APPCDS': 'false',\n",
       " 'PIP_NO_INPUT': '1',\n",
       " 'SUDO_GID': '0',\n",
       " 'PYTHONHASHSEED': '0',\n",
       " 'DISABLE_LOCAL_FILESYSTEM': 'false',\n",
       " 'JAVA_HOME': '/usr/lib/jvm/zulu8-ca-amd64/jre/',\n",
       " 'MLFLOW_PYTHON_EXECUTABLE': '/databricks/spark/scripts/mlflow_python.sh',\n",
       " 'PYDEVD_INTERRUPT_THREAD_TIMEOUT': '15.0',\n",
       " 'JAVA_OPTS': '  -Djava.io.tmpdir=/local_disk0/tmp -XX:-OmitStackTraceInFastThrow -Djava.security.properties=/databricks/spark/dbconf/java/extra.security -XX:-UseContainerSupport -XX:+PrintFlagsFinal -XX:+PrintGCDateStamps -XX:+PrintGCDetails -verbose:gc -Xss4m -Djava.library.path=/usr/java/packages/lib/amd64:/usr/lib64:/lib64:/lib:/usr/lib:/usr/lib/x86_64-linux-gnu/jni:/lib/x86_64-linux-gnu:/usr/lib/x86_64-linux-gnu:/usr/lib/jni -Djavax.xml.datatype.DatatypeFactory=com.sun.org.apache.xerces.internal.jaxp.datatype.DatatypeFactoryImpl -Djavax.xml.parsers.DocumentBuilderFactory=com.sun.org.apache.xerces.internal.jaxp.DocumentBuilderFactoryImpl -Djavax.xml.parsers.SAXParserFactory=com.sun.org.apache.xerces.internal.jaxp.SAXParserFactoryImpl -Djavax.xml.validation.SchemaFactory:http://www.w3.org/2001/XMLSchema=com.sun.org.apache.xerces.internal.jaxp.validation.XMLSchemaFactory -Dorg.xml.sax.driver=com.sun.org.apache.xerces.internal.parsers.SAXParser -Dorg.w3c.dom.DOMImplementationSourceList=com.sun.org.apache.xerces.internal.dom.DOMXSImplementationSourceImpl -Djavax.net.ssl.sessionCacheSize=10000 -Dscala.reflect.runtime.disable.typetag.cache=true -Dcom.google.cloud.spark.bigquery.repackaged.io.netty.tryReflectionSetAccessible=true -Dio.netty.tryReflectionSetAccessible=true -Dlog4j2.formatMsgNoLookups=true      -Ddatabricks.serviceName=driver-1 -Xms7850m -Xmx7850m -Dspark.ui.port=40001 -Dspark.executor.extraJavaOptions=\"-Djava.io.tmpdir=/local_disk0/tmp -XX:ReservedCodeCacheSize=512m -XX:+UseCodeCacheFlushing -XX:PerMethodRecompilationCutoff=-1 -XX:PerBytecodeRecompilationCutoff=-1 -Djava.security.properties=/databricks/spark/dbconf/java/extra.security -XX:-UseContainerSupport -XX:+PrintFlagsFinal -XX:+PrintGCDateStamps -XX:+PrintGCDetails -verbose:gc -Xss4m -Djava.library.path=/usr/java/packages/lib/amd64:/usr/lib64:/lib64:/lib:/usr/lib:/usr/lib/x86_64-linux-gnu/jni:/lib/x86_64-linux-gnu:/usr/lib/x86_64-linux-gnu:/usr/lib/jni -Djavax.xml.datatype.DatatypeFactory=com.sun.org.apache.xerces.internal.jaxp.datatype.DatatypeFactoryImpl -Djavax.xml.parsers.DocumentBuilderFactory=com.sun.org.apache.xerces.internal.jaxp.DocumentBuilderFactoryImpl -Djavax.xml.parsers.SAXParserFactory=com.sun.org.apache.xerces.internal.jaxp.SAXParserFactoryImpl -Djavax.xml.validation.SchemaFactory:http://www.w3.org/2001/XMLSchema=com.sun.org.apache.xerces.internal.jaxp.validation.XMLSchemaFactory -Dorg.xml.sax.driver=com.sun.org.apache.xerces.internal.parsers.SAXParser -Dorg.w3c.dom.DOMImplementationSourceList=com.sun.org.apache.xerces.internal.dom.DOMXSImplementationSourceImpl -Djavax.net.ssl.sessionCacheSize=10000 -Dscala.reflect.runtime.disable.typetag.cache=true -Dcom.google.cloud.spark.bigquery.repackaged.io.netty.tryReflectionSetAccessible=true -Dio.netty.tryReflectionSetAccessible=true -Dlog4j2.formatMsgNoLookups=true       -Ddatabricks.serviceName=spark-executor-1\" -Dspark.executor.memory=8874m -Dspark.executor.extraClassPath=/databricks/spark/dbconf/log4j/executor:/databricks/spark/dbconf/jets3t/:/databricks/spark/dbconf/hadoop:/databricks/hive/conf:/databricks/jars/*',\n",
       " 'SUDO_COMMAND': '/usr/bin/lxc-attach -n 0824-141940-e6ohrinj_10_4_52_242 -- env DB_HOME=/databricks CLUSTER_DB_HOME=/databricks bash -l -c bash ${DB_HOME:-/home/ubuntu/databricks}/spark/scripts/start_chauffeur.sh /tmp/chauffeur-env.sh',\n",
       " 'SUDO_USER': 'root',\n",
       " 'PWD': '/databricks/driver',\n",
       " 'LOGNAME': 'root',\n",
       " 'DB_HOME': '/databricks',\n",
       " 'KOALAS_USAGE_LOGGER': 'pyspark.databricks.koalas.usage_logger',\n",
       " 'PYARROW_IGNORE_TIMEZONE': '1',\n",
       " 'container': 'lxc',\n",
       " 'HIVE_HOME': '/home/ubuntu/hive-0.9.0-bin',\n",
       " 'ICU_DATA': '/databricks/native',\n",
       " 'DRIVER_PID_FILE': '/tmp/driver-daemon.pid',\n",
       " 'HOME': '/root',\n",
       " 'DEFAULT_DATABRICKS_ROOT_VIRTUALENV_ENV': '/databricks/python3',\n",
       " 'LANG': 'C.UTF-8',\n",
       " 'MLFLOW_TRACKING_URI': 'databricks',\n",
       " 'R_LIBS': '/databricks/spark/R/lib:/local_disk0/.ephemeral_nfs/cluster_libraries/r',\n",
       " 'VIRTUAL_ENV': '/local_disk0/.ephemeral_nfs/envs/pythonEnv-1af4a31a-41b7-4b36-a81f-e0ccde9f8f59',\n",
       " 'DATABRICKS_CLUSTER_LIBS_R_ROOT_DIR': 'r',\n",
       " 'CLUSTER_DB_HOME': '/databricks',\n",
       " 'PYSPARK_GATEWAY_SECRET': '<hidden>',\n",
       " 'DATABRICKS_RUNTIME_VERSION': '15.4',\n",
       " 'PYSPARK_PYTHON': '/databricks/python/bin/python',\n",
       " 'DATABRICKS_ROOT_VIRTUALENV_ENV': '/databricks/python3',\n",
       " 'PYTHONPATH': '/databricks/spark/python:/databricks/spark/python/lib/py4j-0.10.9.7-src.zip:/databricks/jars/spark--driver--driver-spark_3.5_2.12_deploy.jar:/WSFS_NOTEBOOK_DIR:/databricks/spark/python:/databricks/python_shell',\n",
       " 'TERM': 'xterm-color',\n",
       " 'USER': 'root',\n",
       " 'SPARK_PUBLIC_DNS': '10.4.52.242',\n",
       " 'ENABLE_CLASSLOADING_LOGS': '',\n",
       " 'RAY_TMPDIR': '/local_disk0/tmp',\n",
       " 'SPARK_LOCAL_DIRS': '/local_disk0',\n",
       " 'PINNED_THREAD_MODE': 'true',\n",
       " 'SHLVL': '0',\n",
       " 'MASTER': 'local[8]',\n",
       " 'SPARK_HOME': '/databricks/spark',\n",
       " 'SPARK_LOCAL_IP': '10.4.52.242',\n",
       " 'MLFLOW_CONDA_HOME': '/databricks/conda',\n",
       " 'PYSPARK_GATEWAY_PORT': '35379',\n",
       " 'VIRTUAL_ENV_PROMPT': 'pythonEnv-1af4a31a-41b7-4b36-a81f-e0ccde9f8f59',\n",
       " 'MLFLOW_DEPLOYMENTS_TARGET': 'databricks',\n",
       " 'MPLBACKEND': 'AGG',\n",
       " 'CLASSPATH': '/databricks/spark/dbconf/jets3t/:/databricks/spark/dbconf/log4j/driver:/databricks/hive/conf:/databricks/spark/dbconf/hadoop:/databricks/jars/*',\n",
       " 'SPARK_CONF_DIR': '/databricks/spark/conf',\n",
       " 'SPARK_DIST_CLASSPATH': '/databricks/spark/dbconf/log4j/driver:/databricks/jars/*',\n",
       " 'MLFLOW_GATEWAY_URI': 'databricks',\n",
       " 'PS1': '(pythonEnv-1af4a31a-41b7-4b36-a81f-e0ccde9f8f59) ',\n",
       " 'PYENV_ROOT': '/databricks/.pyenv',\n",
       " 'ENABLE_IPTABLES': 'false',\n",
       " 'JUPYTER_WIDGETS_ECHO': '1',\n",
       " 'DATABRICKS_LIBS_NFS_ROOT_PATH': '/local_disk0/.ephemeral_nfs',\n",
       " 'SPARK_ENV_LOADED': '1',\n",
       " 'DATABRICKS_CLUSTER_LIBS_ROOT_DIR': 'cluster_libraries',\n",
       " 'PATH': '/local_disk0/.ephemeral_nfs/envs/pythonEnv-1af4a31a-41b7-4b36-a81f-e0ccde9f8f59/bin:/local_disk0/.ephemeral_nfs/cluster_libraries/python/bin:/databricks/.pyenv/bin:/usr/local/nvidia/bin:/databricks/python3/bin:/usr/local/sbin:/usr/local/bin:/usr/sbin:/usr/bin:/sbin:/bin:/snap/bin',\n",
       " 'DATABRICKS_LIBS_NFS_ROOT_DIR': '.ephemeral_nfs',\n",
       " 'SUDO_UID': '0',\n",
       " 'OMPI_MCA_btl_tcp_if_include': 'eth0',\n",
       " 'DATABRICKS_CLUSTER_LIBS_PYTHON_ROOT_DIR': 'python',\n",
       " 'SPARK_SCALA_VERSION': '2.12',\n",
       " 'MAIL': '/var/mail/root',\n",
       " 'SCALA_VERSION': '2.10',\n",
       " 'OLDPWD': '/databricks/chauffeur',\n",
       " 'SPARK_WORKER_MEMORY': '11093m',\n",
       " 'PYDEVD_USE_FRAME_EVAL': 'NO',\n",
       " 'SPARK_AUTH_SOCKET_TIMEOUT': '15',\n",
       " 'SPARK_BUFFER_SIZE': '65536',\n",
       " 'CLICOLOR': '1',\n",
       " 'FORCE_COLOR': '1',\n",
       " 'CLICOLOR_FORCE': '1',\n",
       " 'PAGER': 'cat',\n",
       " 'GIT_PAGER': 'cat',\n",
       " 'TESTE_ENV': \"'SUPER TESTE 2'\",\n",
       " 'TESTE2_ENV': \"'SUPER TESTE TESTE !!!'\"}"
      ]
     },
     "execution_count": 13,
     "metadata": {},
     "output_type": "execute_result"
    }
   ],
   "source": [
    "%env"
   ]
  },
  {
   "cell_type": "markdown",
   "metadata": {
    "application/vnd.databricks.v1+cell": {
     "cellMetadata": {
      "byteLimit": 2048000,
      "rowLimit": 10000
     },
     "inputWidgets": {},
     "nuid": "ad576dc0-01fd-450c-9aee-3be5ad372507",
     "showTitle": false,
     "title": ""
    }
   },
   "source": [
    "`[INFO]: Fim do Notebook`"
   ]
  }
 ],
 "metadata": {
  "application/vnd.databricks.v1+notebook": {
   "dashboards": [],
   "environmentMetadata": null,
   "language": "python",
   "notebookMetadata": {
    "mostRecentlyExecutedCommandWithImplicitDF": {
     "commandId": 1735018859067969,
     "dataframes": [
      "_sqldf"
     ]
    },
    "pythonIndentUnit": 4
   },
   "notebookName": "04.magic-command-list",
   "widgets": {}
  }
 },
 "nbformat": 4,
 "nbformat_minor": 0
}
